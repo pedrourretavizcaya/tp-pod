{
  "nbformat": 4,
  "nbformat_minor": 0,
  "metadata": {
    "colab": {
      "provenance": [],
      "collapsed_sections": [
        "8ec8DQdbWQfC",
        "x6s9aanXAp4G",
        "uf4NRwyMCKbg"
      ]
    },
    "kernelspec": {
      "name": "python3",
      "display_name": "Python 3"
    },
    "language_info": {
      "name": "python"
    }
  },
  "cells": [
    {
      "cell_type": "markdown",
      "source": [
        "*   **Año:** [2024]\n",
        "*   **Alumno/a:** [PEDRO URRETAVIZCAYA]\n",
        "*   **Legajo:** [46.704.624]"
      ],
      "metadata": {
        "id": "UwxQU5JCF33j"
      }
    },
    {
      "cell_type": "markdown",
      "source": [
        "# Pandas\n",
        "A continuación, cada celda va a pedir algo distinto. Por favor, realizarlo con la menor cantidad de lineas posibles y con NumPy.\n"
      ],
      "metadata": {
        "id": "8ec8DQdbWQfC"
      }
    },
    {
      "cell_type": "markdown",
      "source": [
        "Importar `pandas` con el alias `pd` e imprimir la versión instalada."
      ],
      "metadata": {
        "id": "uF01w4AQcrtV"
      }
    },
    {
      "cell_type": "code",
      "source": [
        "import pandas as pd\n",
        "print(pd.__version__)"
      ],
      "metadata": {
        "id": "4WPUcwU_c5n2",
        "colab": {
          "base_uri": "https://localhost:8080/"
        },
        "outputId": "a06ea754-1365-4fd5-c550-403d42a9a4ff"
      },
      "execution_count": 1,
      "outputs": [
        {
          "output_type": "stream",
          "name": "stdout",
          "text": [
            "2.2.2\n"
          ]
        }
      ]
    },
    {
      "cell_type": "markdown",
      "source": [
        "Crear la siguiente tabla como un dataframe de Pandas donde cada linea represente un diccionario.\n",
        "\n",
        "| _Index_ | **nombre**       | **edad** | **dni**  |\n",
        "|---------|------------------|----------|----------|\n",
        "| 9       | Brown, James     | 43       | 30123444 |\n",
        "| 3       | Hamkel, Louis V. | 29       | 44555666 |\n",
        "| 7       | Baptista, Carlos | 28       | 43120111 |"
      ],
      "metadata": {
        "id": "eC8fpbQ04GzX"
      }
    },
    {
      "cell_type": "code",
      "source": [
        "data = [\n",
        "{\"index\":9, \"nombre\":\"Brown,James\", \"edad\":43, \"dni\":30123444 },\n",
        "{\"index\":3, \"nombre\":\"Hamkel,Louis V.\", \"edad\":29, \"dni\": 44555666 },\n",
        "{\"index\":7, \"nombre\":\"Baptista, Carlos\", \"edad\":28, \"dni\":43120111 }\n",
        "]\n",
        "df1 = pd.DataFrame(data)\n",
        "df1.set_index('index', inplace=True)\n",
        "print(df1)"
      ],
      "metadata": {
        "id": "I4zJ7s_k4GkI",
        "colab": {
          "base_uri": "https://localhost:8080/"
        },
        "outputId": "a1e7c8cf-be51-4700-efd5-d26d3a6018db"
      },
      "execution_count": 2,
      "outputs": [
        {
          "output_type": "stream",
          "name": "stdout",
          "text": [
            "                 nombre  edad       dni\n",
            "index                                  \n",
            "9           Brown,James    43  30123444\n",
            "3       Hamkel,Louis V.    29  44555666\n",
            "7      Baptista, Carlos    28  43120111\n"
          ]
        }
      ]
    },
    {
      "cell_type": "markdown",
      "source": [
        "Crear la siguiente tabla como un dataframe de Pandas donde todas las lineas esten dentro de un solo diccionario.\n",
        "\n",
        "| _Index_ | **nombre**       | **edad** | **dni**  |\n",
        "|---------|------------------|----------|----------|\n",
        "| 9       | Brown, James     | 43       | 30123444 |\n",
        "| 3       | Hamkel, Louis V. | 29       | 44555666 |\n",
        "| 7       | Baptista, Carlos | 28       | 43120111 |"
      ],
      "metadata": {
        "id": "zas-XX4r4SeP"
      }
    },
    {
      "cell_type": "code",
      "source": [
        "data2 = {\n",
        "    \"index\": [9,3,7],\n",
        "    \"nombre\": [\"Brown,James\", \"Hamkel,Louis V.\", \"Baptista, Carlos\"],\n",
        "    \"edad\": [43,29,28],\n",
        "    \"dni\": [30123444,44555666,43120111]\n",
        "}\n",
        "df2 = pd.DataFrame(data2)\n",
        "df2.set_index(\"index\", inplace=True)\n",
        "print(df2)"
      ],
      "metadata": {
        "id": "_DhtCWhr4ST9",
        "colab": {
          "base_uri": "https://localhost:8080/"
        },
        "outputId": "c95a1bd3-e457-4535-de6c-76602673a8b6"
      },
      "execution_count": 3,
      "outputs": [
        {
          "output_type": "stream",
          "name": "stdout",
          "text": [
            "                 nombre  edad       dni\n",
            "index                                  \n",
            "9           Brown,James    43  30123444\n",
            "3       Hamkel,Louis V.    29  44555666\n",
            "7      Baptista, Carlos    28  43120111\n"
          ]
        }
      ]
    },
    {
      "cell_type": "markdown",
      "source": [
        "Crear la siguiente tabla como un dataframe de Pandas donde se usen unicamente listas.\n",
        "\n",
        "| _Index_ | **nombre**       | **edad** | **dni**  |\n",
        "|---------|------------------|----------|----------|\n",
        "| 9       | Brown, James     | 43       | 30123444 |\n",
        "| 3       | Hamkel, Louis V. | 29       | 44555666 |\n",
        "| 7       | Baptista, Carlos | 28       | 43120111 |"
      ],
      "metadata": {
        "id": "ejbn5RSH4S_W"
      }
    },
    {
      "cell_type": "code",
      "source": [
        "data3 = [\n",
        "    [9,\"Brown,James\",43,30123444 ],\n",
        "    [3,\"Hamkel,Louis V.\",29,44555666 ],\n",
        "    [7,\"Baptista, Carlos\",28,43120111 ]\n",
        "]\n",
        "\n",
        "col = [\"index\", \"nombre\", \"edad\", \"dni\"]\n",
        "\n",
        "df3= pd.DataFrame(data=data3, columns=col)\n",
        "df3.set_index(\"index\", inplace=True)\n",
        "print(df3)"
      ],
      "metadata": {
        "id": "OMPq8C1C4Su3",
        "colab": {
          "base_uri": "https://localhost:8080/"
        },
        "outputId": "8e57fe5b-0394-44fc-910a-8abd6b908a3f"
      },
      "execution_count": 4,
      "outputs": [
        {
          "output_type": "stream",
          "name": "stdout",
          "text": [
            "                 nombre  edad       dni\n",
            "index                                  \n",
            "9           Brown,James    43  30123444\n",
            "3       Hamkel,Louis V.    29  44555666\n",
            "7      Baptista, Carlos    28  43120111\n"
          ]
        }
      ]
    },
    {
      "cell_type": "markdown",
      "source": [
        "Crear la siguiente tabla como un dataframe de Pandas donde se usen unicamente `Series`.\n",
        "\n",
        "| _Index_ | **nombre**       | **edad** | **dni**  |\n",
        "|---------|------------------|----------|----------|\n",
        "| 9       | Brown, James     | 43       | 30123444 |\n",
        "| 3       | Hamkel, Louis V. | 29       | 44555666 |\n",
        "| 7       | Baptista, Carlos | 28       | 43120111 |"
      ],
      "metadata": {
        "id": "dVCeyowLEnJ1"
      }
    },
    {
      "cell_type": "code",
      "source": [
        "index = pd.Series([9, 3, 7], name=\"Index\")\n",
        "nombres = pd.Series([\"Brown, James\", \"Hamkel, Louis V.\", \"Baptista, Carlos\"], name=\"nombre\")\n",
        "edades = pd.Series([43, 29, 28], name=\"edad\")\n",
        "dni = pd.Series([30123444, 44555666, 43120111], name=\"dni\")\n",
        "\n",
        "df = pd.DataFrame({\n",
        "    \"Index\": index,\n",
        "    \"nombre\": nombres,\n",
        "    \"edad\": edades,\n",
        "    \"dni\": dni\n",
        "})\n",
        "print(df)"
      ],
      "metadata": {
        "id": "lj0zQr7qEmzj",
        "colab": {
          "base_uri": "https://localhost:8080/"
        },
        "outputId": "f283336a-03ac-4f4e-ddad-b1d8621be2f9"
      },
      "execution_count": 5,
      "outputs": [
        {
          "output_type": "stream",
          "name": "stdout",
          "text": [
            "   Index            nombre  edad       dni\n",
            "0      9      Brown, James    43  30123444\n",
            "1      3  Hamkel, Louis V.    29  44555666\n",
            "2      7  Baptista, Carlos    28  43120111\n"
          ]
        }
      ]
    },
    {
      "cell_type": "markdown",
      "source": [
        "Reutilice cualquiera de los dataframe hechos anteriormente pero agregue la columna `fecha` con el tipo de dato relacionado a fechas.\n",
        "\n",
        "| _Index_ | **nombre**       | **edad** | **dni**  | **fecha**  |\n",
        "|---------|------------------|----------|----------|------------|\n",
        "| 9       | Brown, James     | 43       | 30123444 | 12/08/1981 |\n",
        "| 3       | Hamkel, Louis V. | 29       | 44555666 | 10/04/1995 |\n",
        "| 7       | Baptista, Carlos | 28       | 43120111 | 28/05/1996 |"
      ],
      "metadata": {
        "id": "oP9dwhSLEnix"
      }
    },
    {
      "cell_type": "code",
      "source": [
        "df1[\"fecha\"] = [\"12/08/1981\", \"10/04/1995\", \"28/05/1996\"]\n",
        "df1[\"fecha\"] = pd.to_datetime(df1[\"fecha\"],format=\"%d/%m/%Y\")\n",
        "print(df1)\n",
        "#no pude hacer que sea con /"
      ],
      "metadata": {
        "id": "lt6ZjIgAFEpT",
        "colab": {
          "base_uri": "https://localhost:8080/"
        },
        "outputId": "845be5ef-d4c6-45ae-9985-1fece06157e3"
      },
      "execution_count": 6,
      "outputs": [
        {
          "output_type": "stream",
          "name": "stdout",
          "text": [
            "                 nombre  edad       dni      fecha\n",
            "index                                             \n",
            "9           Brown,James    43  30123444 1981-08-12\n",
            "3       Hamkel,Louis V.    29  44555666 1995-04-10\n",
            "7      Baptista, Carlos    28  43120111 1996-05-28\n"
          ]
        }
      ]
    },
    {
      "cell_type": "markdown",
      "source": [
        "Ejecute la siguiente celda. Se va a descargar un archivo llamado `u.user`."
      ],
      "metadata": {
        "id": "X6Y5smKMEn6w"
      }
    },
    {
      "cell_type": "code",
      "source": [
        "!wget https://raw.githubusercontent.com/justmarkham/DAT8/master/data/u.user"
      ],
      "metadata": {
        "id": "3v7G1jWs7rDg",
        "colab": {
          "base_uri": "https://localhost:8080/"
        },
        "outputId": "847d2212-48e6-453f-fbf8-d2915fcd6b02"
      },
      "execution_count": 7,
      "outputs": [
        {
          "output_type": "stream",
          "name": "stdout",
          "text": [
            "--2024-11-21 12:34:38--  https://raw.githubusercontent.com/justmarkham/DAT8/master/data/u.user\n",
            "Resolving raw.githubusercontent.com (raw.githubusercontent.com)... 185.199.108.133, 185.199.109.133, 185.199.110.133, ...\n",
            "Connecting to raw.githubusercontent.com (raw.githubusercontent.com)|185.199.108.133|:443... connected.\n",
            "HTTP request sent, awaiting response... 200 OK\n",
            "Length: 22667 (22K) [text/plain]\n",
            "Saving to: ‘u.user.4’\n",
            "\n",
            "u.user.4            100%[===================>]  22.14K  --.-KB/s    in 0s      \n",
            "\n",
            "2024-11-21 12:34:39 (49.9 MB/s) - ‘u.user.4’ saved [22667/22667]\n",
            "\n"
          ]
        }
      ]
    },
    {
      "cell_type": "markdown",
      "source": [
        "Lea el archivo con pandas y muestre las primeras 5 filas."
      ],
      "metadata": {
        "id": "-qRRF8T_72wD"
      }
    },
    {
      "cell_type": "code",
      "source": [
        "data = pd.read_csv(\"u.user\", sep=\"|\")\n",
        "print(data.head())"
      ],
      "metadata": {
        "id": "HlPu1a1sEohQ",
        "colab": {
          "base_uri": "https://localhost:8080/"
        },
        "outputId": "a9b14f97-f8b0-4383-dfa4-5096d8f981da"
      },
      "execution_count": 8,
      "outputs": [
        {
          "output_type": "stream",
          "name": "stdout",
          "text": [
            "   user_id  age gender  occupation zip_code\n",
            "0        1   24      M  technician    85711\n",
            "1        2   53      F       other    94043\n",
            "2        3   23      M      writer    32067\n",
            "3        4   24      M  technician    43537\n",
            "4        5   33      F       other    15213\n"
          ]
        }
      ]
    },
    {
      "cell_type": "markdown",
      "source": [
        "Utilice la columna `user_id` como indice y saque dicha columna del dataframe\n",
        "\n"
      ],
      "metadata": {
        "id": "LsqtwfYc8P6L"
      }
    },
    {
      "cell_type": "code",
      "source": [
        "data.set_index(\"user_id\", inplace=True)\n",
        "print(data.head())"
      ],
      "metadata": {
        "id": "yQs0BtSF8PzU",
        "colab": {
          "base_uri": "https://localhost:8080/"
        },
        "outputId": "c998e0ee-7031-42c1-b872-b55491ca2e67"
      },
      "execution_count": 9,
      "outputs": [
        {
          "output_type": "stream",
          "name": "stdout",
          "text": [
            "         age gender  occupation zip_code\n",
            "user_id                                 \n",
            "1         24      M  technician    85711\n",
            "2         53      F       other    94043\n",
            "3         23      M      writer    32067\n",
            "4         24      M  technician    43537\n",
            "5         33      F       other    15213\n"
          ]
        }
      ]
    },
    {
      "cell_type": "markdown",
      "source": [
        "¿Cuantas categorias de trabajos hay?"
      ],
      "metadata": {
        "id": "_5Cld-VT8PsG"
      }
    },
    {
      "cell_type": "code",
      "source": [
        "print(data[\"occupation\"].nunique())"
      ],
      "metadata": {
        "id": "TVeQ-jgZ8PlX",
        "colab": {
          "base_uri": "https://localhost:8080/"
        },
        "outputId": "85ea0e2c-ca44-4d13-bd4e-c9bb3b3366b7"
      },
      "execution_count": 10,
      "outputs": [
        {
          "output_type": "stream",
          "name": "stdout",
          "text": [
            "21\n"
          ]
        }
      ]
    },
    {
      "cell_type": "markdown",
      "source": [
        " Reporte el porcentaje de personas que tiene cada ocupación."
      ],
      "metadata": {
        "id": "suETYqm28Pba"
      }
    },
    {
      "cell_type": "code",
      "source": [
        "print(data[\"occupation\"].value_counts(normalize=True))"
      ],
      "metadata": {
        "id": "mJFiaURH8PS4",
        "colab": {
          "base_uri": "https://localhost:8080/"
        },
        "outputId": "77199170-5615-43ae-8f31-691cafd22ae3"
      },
      "execution_count": 11,
      "outputs": [
        {
          "output_type": "stream",
          "name": "stdout",
          "text": [
            "occupation\n",
            "student          0.207847\n",
            "other            0.111347\n",
            "educator         0.100742\n",
            "administrator    0.083775\n",
            "engineer         0.071050\n",
            "programmer       0.069989\n",
            "librarian        0.054083\n",
            "writer           0.047720\n",
            "executive        0.033934\n",
            "scientist        0.032874\n",
            "artist           0.029692\n",
            "technician       0.028632\n",
            "marketing        0.027572\n",
            "entertainment    0.019088\n",
            "healthcare       0.016967\n",
            "retired          0.014846\n",
            "lawyer           0.012725\n",
            "salesman         0.012725\n",
            "none             0.009544\n",
            "homemaker        0.007423\n",
            "doctor           0.007423\n",
            "Name: proportion, dtype: float64\n"
          ]
        }
      ]
    },
    {
      "cell_type": "markdown",
      "source": [
        "Reporte el promedio de edad de los estudiantes usando indexeo booleano."
      ],
      "metadata": {
        "id": "OqJ3ufrnEouE"
      }
    },
    {
      "cell_type": "code",
      "source": [
        "print(data[data[\"occupation\"]==\"student\"][\"age\"].mean())"
      ],
      "metadata": {
        "id": "h9LdQIKZF5Y3",
        "colab": {
          "base_uri": "https://localhost:8080/"
        },
        "outputId": "c72cb6bc-e971-4130-e346-1a9f3c961c54"
      },
      "execution_count": 12,
      "outputs": [
        {
          "output_type": "stream",
          "name": "stdout",
          "text": [
            "22.081632653061224\n"
          ]
        }
      ]
    },
    {
      "cell_type": "markdown",
      "source": [
        "Mostrar, con una sola linea y sin importar `matplotlib`, un histograma de las edades de las personas que son administradores."
      ],
      "metadata": {
        "id": "ECU9-LayF53z"
      }
    },
    {
      "cell_type": "code",
      "source": [
        "data[data[\"occupation\"]==\"administrator\"][\"age\"].hist()"
      ],
      "metadata": {
        "id": "qOimVpu0F4el",
        "colab": {
          "base_uri": "https://localhost:8080/",
          "height": 447
        },
        "outputId": "ce314165-8896-431b-de05-d1978de664f6"
      },
      "execution_count": 13,
      "outputs": [
        {
          "output_type": "execute_result",
          "data": {
            "text/plain": [
              "<Axes: >"
            ]
          },
          "metadata": {},
          "execution_count": 13
        },
        {
          "output_type": "display_data",
          "data": {
            "text/plain": [
              "<Figure size 640x480 with 1 Axes>"
            ],
            "image/png": "[encoded data removed]"
          },
          "metadata": {}
        }
      ]
    },
    {
      "cell_type": "markdown",
      "source": [
        "Reemplace, sin usar `for`, en la columna `gender` `F` por `female` y `M` por `male`."
      ],
      "metadata": {
        "id": "mFzSH9D1QHM4"
      }
    },
    {
      "cell_type": "code",
      "source": [
        "data[\"gender\"].replace({\"F\":\"female\", \"M\":\"male\"}, inplace=True)\n",
        "print(data.head())"
      ],
      "metadata": {
        "id": "SZg2_4AJQHhr",
        "colab": {
          "base_uri": "https://localhost:8080/"
        },
        "outputId": "adc656e3-48e6-43bf-f844-238dee1396ad"
      },
      "execution_count": 14,
      "outputs": [
        {
          "output_type": "stream",
          "name": "stdout",
          "text": [
            "         age  gender  occupation zip_code\n",
            "user_id                                  \n",
            "1         24    male  technician    85711\n",
            "2         53  female       other    94043\n",
            "3         23    male      writer    32067\n",
            "4         24    male  technician    43537\n",
            "5         33  female       other    15213\n"
          ]
        },
        {
          "output_type": "stream",
          "name": "stderr",
          "text": [
            "<ipython-input-14-1cd2732d2f5c>:1: FutureWarning: A value is trying to be set on a copy of a DataFrame or Series through chained assignment using an inplace method.\n",
            "The behavior will change in pandas 3.0. This inplace method will never work because the intermediate object on which we are setting values always behaves as a copy.\n",
            "\n",
            "For example, when doing 'df[col].method(value, inplace=True)', try using 'df.method({col: value}, inplace=True)' or df[col] = df[col].method(value) instead, to perform the operation inplace on the original object.\n",
            "\n",
            "\n",
            "  data[\"gender\"].replace({\"F\":\"female\", \"M\":\"male\"}, inplace=True)\n"
          ]
        }
      ]
    },
    {
      "cell_type": "markdown",
      "source": [
        "# Yahoo! Finance"
      ],
      "metadata": {
        "id": "x6s9aanXAp4G"
      }
    },
    {
      "cell_type": "markdown",
      "source": [
        "Vamos a analizar acciones. La siguiente linea accede a Yahoo Finance y devuelve un DataFrame con los valores de la acción cada dia desde el 1980."
      ],
      "metadata": {
        "id": "qqBxTaafArYH"
      }
    },
    {
      "cell_type": "code",
      "source": [
        "import yfinance as yf\n",
        "dataframe = yf.download('AAPL', start=\"1980-01-01\", end=\"2030-01-01\")\n",
        "print(dataframe.head())"
      ],
      "metadata": {
        "id": "HWJ0fZbfApy6",
        "colab": {
          "base_uri": "https://localhost:8080/"
        },
        "outputId": "e2bb4ca8-577b-4645-a332-5457fc12c67e"
      },
      "execution_count": 15,
      "outputs": [
        {
          "output_type": "stream",
          "name": "stderr",
          "text": [
            "\r[*********************100%***********************]  1 of 1 completed"
          ]
        },
        {
          "output_type": "stream",
          "name": "stdout",
          "text": [
            "Price                     Adj Close     Close      High       Low      Open  \\\n",
            "Ticker                         AAPL      AAPL      AAPL      AAPL      AAPL   \n",
            "Date                                                                          \n",
            "1980-12-12 00:00:00+00:00  0.098834  0.128348  0.128906  0.128348  0.128348   \n",
            "1980-12-15 00:00:00+00:00  0.093678  0.121652  0.122210  0.121652  0.122210   \n",
            "1980-12-16 00:00:00+00:00  0.086802  0.112723  0.113281  0.112723  0.113281   \n",
            "1980-12-17 00:00:00+00:00  0.088951  0.115513  0.116071  0.115513  0.115513   \n",
            "1980-12-18 00:00:00+00:00  0.091530  0.118862  0.119420  0.118862  0.118862   \n",
            "\n",
            "Price                         Volume  \n",
            "Ticker                          AAPL  \n",
            "Date                                  \n",
            "1980-12-12 00:00:00+00:00  469033600  \n",
            "1980-12-15 00:00:00+00:00  175884800  \n",
            "1980-12-16 00:00:00+00:00  105728000  \n",
            "1980-12-17 00:00:00+00:00   86441600  \n",
            "1980-12-18 00:00:00+00:00   73449600  \n"
          ]
        },
        {
          "output_type": "stream",
          "name": "stderr",
          "text": [
            "\n"
          ]
        }
      ]
    },
    {
      "cell_type": "markdown",
      "source": [
        "¿Cual es el registro mas viejo? Imprimirlo."
      ],
      "metadata": {
        "id": "ikpnKqnPApuG"
      }
    },
    {
      "cell_type": "code",
      "source": [
        "dataframe.sort_values(by=\"Date\", ascending=True).head(1)"
      ],
      "metadata": {
        "id": "e56tZ607Appx",
        "colab": {
          "base_uri": "https://localhost:8080/",
          "height": 144
        },
        "outputId": "3bd544e3-9b3a-4313-b091-3e67234049a6"
      },
      "execution_count": 16,
      "outputs": [
        {
          "output_type": "execute_result",
          "data": {
            "text/plain": [
              "Price                     Adj Close     Close      High       Low      Open  \\\n",
              "Ticker                         AAPL      AAPL      AAPL      AAPL      AAPL   \n",
              "Date                                                                          \n",
              "1980-12-12 00:00:00+00:00  0.098834  0.128348  0.128906  0.128348  0.128348   \n",
              "\n",
              "Price                         Volume  \n",
              "Ticker                          AAPL  \n",
              "Date                                  \n",
              "1980-12-12 00:00:00+00:00  469033600  "
            ],
            "text/html": [
              "\n",
              "  <div id=\"df-19dc8f9c-a69e-4222-8ab3-397155279873\" class=\"colab-df-container\">\n",
              "    <div>\n",
              "<style scoped>\n",
              "    .dataframe tbody tr th:only-of-type {\n",
              "        vertical-align: middle;\n",
              "    }\n",
              "\n",
              "    .dataframe tbody tr th {\n",
              "        vertical-align: top;\n",
              "    }\n",
              "\n",
              "    .dataframe thead tr th {\n",
              "        text-align: left;\n",
              "    }\n",
              "\n",
              "    .dataframe thead tr:last-of-type th {\n",
              "        text-align: right;\n",
              "    }\n",
              "</style>\n",
              "<table border=\"1\" class=\"dataframe\">\n",
              "  <thead>\n",
              "    <tr>\n",
              "      <th>Price</th>\n",
              "      <th>Adj Close</th>\n",
              "      <th>Close</th>\n",
              "      <th>High</th>\n",
              "      <th>Low</th>\n",
              "      <th>Open</th>\n",
              "      <th>Volume</th>\n",
              "    </tr>\n",
              "    <tr>\n",
              "      <th>Ticker</th>\n",
              "      <th>AAPL</th>\n",
              "      <th>AAPL</th>\n",
              "      <th>AAPL</th>\n",
              "      <th>AAPL</th>\n",
              "      <th>AAPL</th>\n",
              "      <th>AAPL</th>\n",
              "    </tr>\n",
              "    <tr>\n",
              "      <th>Date</th>\n",
              "      <th></th>\n",
              "      <th></th>\n",
              "      <th></th>\n",
              "      <th></th>\n",
              "      <th></th>\n",
              "      <th></th>\n",
              "    </tr>\n",
              "  </thead>\n",
              "  <tbody>\n",
              "    <tr>\n",
              "      <th>1980-12-12 00:00:00+00:00</th>\n",
              "      <td>0.098834</td>\n",
              "      <td>0.128348</td>\n",
              "      <td>0.128906</td>\n",
              "      <td>0.128348</td>\n",
              "      <td>0.128348</td>\n",
              "      <td>469033600</td>\n",
              "    </tr>\n",
              "  </tbody>\n",
              "</table>\n",
              "</div>\n",
              "    <div class=\"colab-df-buttons\">\n",
              "\n",
              "  <div class=\"colab-df-container\">\n",
              "    <button class=\"colab-df-convert\" onclick=\"convertToInteractive('df-19dc8f9c-a69e-4222-8ab3-397155279873')\"\n",
              "            title=\"Convert this dataframe to an interactive table.\"\n",
              "            style=\"display:none;\">\n",
              "\n",
              "  <svg xmlns=\"http://www.w3.org/2000/svg\" height=\"24px\" viewBox=\"0 -960 960 960\">\n",
              "    <path d=\"M120-120v-720h720v720H120Zm60-500h600v-160H180v160Zm220 220h160v-160H400v160Zm0 220h160v-160H400v160ZM180-400h160v-160H180v160Zm440 0h160v-160H620v160ZM180-180h160v-160H180v160Zm440 0h160v-160H620v160Z\"/>\n",
              "  </svg>\n",
              "    </button>\n",
              "\n",
              "  <style>\n",
              "    .colab-df-container {\n",
              "      display:flex;\n",
              "      gap: 12px;\n",
              "    }\n",
              "\n",
              "    .colab-df-convert {\n",
              "      background-color: #E8F0FE;\n",
              "      border: none;\n",
              "      border-radius: 50%;\n",
              "      cursor: pointer;\n",
              "      display: none;\n",
              "      fill: #1967D2;\n",
              "      height: 32px;\n",
              "      padding: 0 0 0 0;\n",
              "      width: 32px;\n",
              "    }\n",
              "\n",
              "    .colab-df-convert:hover {\n",
              "      background-color: #E2EBFA;\n",
              "      box-shadow: 0px 1px 2px rgba(60, 64, 67, 0.3), 0px 1px 3px 1px rgba(60, 64, 67, 0.15);\n",
              "      fill: #174EA6;\n",
              "    }\n",
              "\n",
              "    .colab-df-buttons div {\n",
              "      margin-bottom: 4px;\n",
              "    }\n",
              "\n",
              "    [theme=dark] .colab-df-convert {\n",
              "      background-color: #3B4455;\n",
              "      fill: #D2E3FC;\n",
              "    }\n",
              "\n",
              "    [theme=dark] .colab-df-convert:hover {\n",
              "      background-color: #434B5C;\n",
              "      box-shadow: 0px 1px 3px 1px rgba(0, 0, 0, 0.15);\n",
              "      filter: drop-shadow(0px 1px 2px rgba(0, 0, 0, 0.3));\n",
              "      fill: #FFFFFF;\n",
              "    }\n",
              "  </style>\n",
              "\n",
              "    <script>\n",
              "      const buttonEl =\n",
              "        document.querySelector('#df-19dc8f9c-a69e-4222-8ab3-397155279873 button.colab-df-convert');\n",
              "      buttonEl.style.display =\n",
              "        google.colab.kernel.accessAllowed ? 'block' : 'none';\n",
              "\n",
              "      async function convertToInteractive(key) {\n",
              "        const element = document.querySelector('#df-19dc8f9c-a69e-4222-8ab3-397155279873');\n",
              "        const dataTable =\n",
              "          await google.colab.kernel.invokeFunction('convertToInteractive',\n",
              "                                                    [key], {});\n",
              "        if (!dataTable) return;\n",
              "\n",
              "        const docLinkHtml = 'Like what you see? Visit the ' +\n",
              "          '<a target=\"_blank\" href=https://colab.research.google.com/notebooks/data_table.ipynb>data table notebook</a>'\n",
              "          + ' to learn more about interactive tables.';\n",
              "        element.innerHTML = '';\n",
              "        dataTable['output_type'] = 'display_data';\n",
              "        await google.colab.output.renderOutput(dataTable, element);\n",
              "        const docLink = document.createElement('div');\n",
              "        docLink.innerHTML = docLinkHtml;\n",
              "        element.appendChild(docLink);\n",
              "      }\n",
              "    </script>\n",
              "  </div>\n",
              "\n",
              "\n",
              "    </div>\n",
              "  </div>\n"
            ],
            "application/vnd.google.colaboratory.intrinsic+json": {
              "type": "dataframe",
              "summary": "{\n  \"name\": \"dataframe\",\n  \"rows\": 1,\n  \"fields\": [\n    {\n      \"column\": [\n        \"Date\",\n        \"\"\n      ],\n      \"properties\": {\n        \"dtype\": \"date\",\n        \"min\": \"1980-12-12 00:00:00+00:00\",\n        \"max\": \"1980-12-12 00:00:00+00:00\",\n        \"num_unique_values\": 1,\n        \"samples\": [\n          \"1980-12-12 00:00:00+00:00\"\n        ],\n        \"semantic_type\": \"\",\n        \"description\": \"\"\n      }\n    },\n    {\n      \"column\": [\n        \"Adj Close\",\n        \"AAPL\"\n      ],\n      \"properties\": {\n        \"dtype\": \"number\",\n        \"std\": null,\n        \"min\": 0.09883446991443634,\n        \"max\": 0.09883446991443634,\n        \"num_unique_values\": 1,\n        \"samples\": [\n          0.09883446991443634\n        ],\n        \"semantic_type\": \"\",\n        \"description\": \"\"\n      }\n    },\n    {\n      \"column\": [\n        \"Close\",\n        \"AAPL\"\n      ],\n      \"properties\": {\n        \"dtype\": \"number\",\n        \"std\": null,\n        \"min\": 0.1283479928970337,\n        \"max\": 0.1283479928970337,\n        \"num_unique_values\": 1,\n        \"samples\": [\n          0.1283479928970337\n        ],\n        \"semantic_type\": \"\",\n        \"description\": \"\"\n      }\n    },\n    {\n      \"column\": [\n        \"High\",\n        \"AAPL\"\n      ],\n      \"properties\": {\n        \"dtype\": \"number\",\n        \"std\": null,\n        \"min\": 0.1289059966802597,\n        \"max\": 0.1289059966802597,\n        \"num_unique_values\": 1,\n        \"samples\": [\n          0.1289059966802597\n        ],\n        \"semantic_type\": \"\",\n        \"description\": \"\"\n      }\n    },\n    {\n      \"column\": [\n        \"Low\",\n        \"AAPL\"\n      ],\n      \"properties\": {\n        \"dtype\": \"number\",\n        \"std\": null,\n        \"min\": 0.1283479928970337,\n        \"max\": 0.1283479928970337,\n        \"num_unique_values\": 1,\n        \"samples\": [\n          0.1283479928970337\n        ],\n        \"semantic_type\": \"\",\n        \"description\": \"\"\n      }\n    },\n    {\n      \"column\": [\n        \"Open\",\n        \"AAPL\"\n      ],\n      \"properties\": {\n        \"dtype\": \"number\",\n        \"std\": null,\n        \"min\": 0.1283479928970337,\n        \"max\": 0.1283479928970337,\n        \"num_unique_values\": 1,\n        \"samples\": [\n          0.1283479928970337\n        ],\n        \"semantic_type\": \"\",\n        \"description\": \"\"\n      }\n    },\n    {\n      \"column\": [\n        \"Volume\",\n        \"AAPL\"\n      ],\n      \"properties\": {\n        \"dtype\": \"number\",\n        \"std\": null,\n        \"min\": 469033600,\n        \"max\": 469033600,\n        \"num_unique_values\": 1,\n        \"samples\": [\n          469033600\n        ],\n        \"semantic_type\": \"\",\n        \"description\": \"\"\n      }\n    }\n  ]\n}"
            }
          },
          "metadata": {},
          "execution_count": 16
        }
      ]
    },
    {
      "cell_type": "markdown",
      "source": [
        "Cree la columna `Average` tal que\n",
        "\n",
        "$$Average =  \\frac{High-Low}{2}$$\n",
        "\n",
        "y muestre con un histograma dicha columna."
      ],
      "metadata": {
        "id": "EHHhUvUtApk0"
      }
    },
    {
      "cell_type": "code",
      "source": [
        "dataframe[\"Average\"] = (dataframe[\"High\"]-dataframe[\"Low\"])/2\n",
        "dataframe[\"Average\"].hist()"
      ],
      "metadata": {
        "id": "-b9g66axApgL",
        "colab": {
          "base_uri": "https://localhost:8080/",
          "height": 447
        },
        "outputId": "2e4a0127-e5db-4fa4-c179-999667531f69"
      },
      "execution_count": 17,
      "outputs": [
        {
          "output_type": "execute_result",
          "data": {
            "text/plain": [
              "<Axes: >"
            ]
          },
          "metadata": {},
          "execution_count": 17
        },
        {
          "output_type": "display_data",
          "data": {
            "text/plain": [
              "<Figure size 640x480 with 1 Axes>"
            ],
            "image/png": "[encoded data removed]"
          },
          "metadata": {}
        }
      ]
    },
    {
      "cell_type": "markdown",
      "source": [
        "Con `matplotlib`, muestre como `Average` fue evolucionando *al final de cada año*."
      ],
      "metadata": {
        "id": "yeZWGXexApbb"
      }
    },
    {
      "cell_type": "code",
      "source": [
        "import matplotlib.pyplot as plt\n",
        "dataframe[\"Average\"].plot()"
      ],
      "metadata": {
        "id": "oeSb_UegApVZ",
        "colab": {
          "base_uri": "https://localhost:8080/",
          "height": 439
        },
        "outputId": "e3f2dc4b-88f8-4c9a-e205-b17bc36b21de"
      },
      "execution_count": 18,
      "outputs": [
        {
          "output_type": "execute_result",
          "data": {
            "text/plain": [
              "<Axes: xlabel='Date'>"
            ]
          },
          "metadata": {},
          "execution_count": 18
        },
        {
          "output_type": "display_data",
          "data": {
            "text/plain": [
              "<Figure size 640x480 with 1 Axes>"
            ],
            "image/png": "[encoded data removed]"
          },
          "metadata": {}
        }
      ]
    },
    {
      "cell_type": "markdown",
      "source": [
        "Muestre con un gráfico de barras, como el volumen fue cambiando *año a año*."
      ],
      "metadata": {
        "id": "K1UXxoawApPD"
      }
    },
    {
      "cell_type": "code",
      "source": [
        "dataframe.index = pd.to_datetime(dataframe.index)\n",
        "\n",
        "dataframe[\"Year\"] =dataframe.index.year\n",
        "volumen_por_anio = dataframe.groupby(\"Year\")[\"Volume\"].sum()\n",
        "\n",
        "plt.figure(figsize= (12, 6))\n",
        "volumen_por_anio.plot(kind=\"bar\",  color=\"skyblue\")\n",
        "plt.title(\"Volumen Total por Año\")\n",
        "plt.xlabel(\"Año\")\n",
        "plt.ylabel(\"Volumen Total\")\n",
        "plt.show()"
      ],
      "metadata": {
        "id": "4OyausU5ApGJ",
        "colab": {
          "base_uri": "https://localhost:8080/",
          "height": 510
        },
        "outputId": "aae31b4a-4337-4cb8-de53-d44a5b6c0866"
      },
      "execution_count": 19,
      "outputs": [
        {
          "output_type": "display_data",
          "data": {
            "text/plain": [
              "<Figure size 1200x600 with 0 Axes>"
            ]
          },
          "metadata": {}
        },
        {
          "output_type": "display_data",
          "data": {
            "text/plain": [
              "<Figure size 640x480 with 1 Axes>"
            ],
            "image/png": "[encoded data removed]"
          },
          "metadata": {}
        }
      ]
    },
    {
      "cell_type": "markdown",
      "source": [
        "# Cancelaciones y Delays de vuelos del 2015"
      ],
      "metadata": {
        "id": "uf4NRwyMCKbg"
      }
    },
    {
      "cell_type": "markdown",
      "source": [
        "Creese una cuenta en Kaggle e importe los archivos del dataset del siguiente link: https://www.kaggle.com/datasets/usdot/flight-delays. Cree los dataframes `airlines`, `airports`, y `flights` apartir de esos archivos."
      ],
      "metadata": {
        "id": "RoYldCmDCKWJ"
      }
    },
    {
      "cell_type": "code",
      "source": [
        "from google.colab import drive\n",
        "drive.mount('/content/drive')\n",
        "\n",
        "path = \"/content/drive/My Drive/datasets/\""
      ],
      "metadata": {
        "colab": {
          "base_uri": "https://localhost:8080/"
        },
        "id": "iBncleaHmfl7",
        "outputId": "35fe48ac-8a5d-49c1-e85d-6036299fc42e"
      },
      "execution_count": 20,
      "outputs": [
        {
          "output_type": "stream",
          "name": "stdout",
          "text": [
            "Drive already mounted at /content/drive; to attempt to forcibly remount, call drive.mount(\"/content/drive\", force_remount=True).\n"
          ]
        }
      ]
    },
    {
      "cell_type": "code",
      "source": [
        "df_airlines = pd.read_csv(path+\"/airlines.csv\")\n",
        "df_airports = pd.read_csv(path+\"/airports.csv\")\n",
        "df_flights = pd.read_csv(path+\"/flights.csv\")"
      ],
      "metadata": {
        "id": "pRwfZBNKEFwo",
        "colab": {
          "base_uri": "https://localhost:8080/"
        },
        "outputId": "68e50b77-4f82-4a37-f1bd-f39bf315ce6f"
      },
      "execution_count": 21,
      "outputs": [
        {
          "output_type": "stream",
          "name": "stderr",
          "text": [
            "<ipython-input-21-e047825940d0>:3: DtypeWarning: Columns (7,8) have mixed types. Specify dtype option on import or set low_memory=False.\n",
            "  df_flights = pd.read_csv(path+\"/flights.csv\")\n"
          ]
        }
      ]
    },
    {
      "cell_type": "code",
      "source": [
        "print(df_airlines.columns)\n",
        "print(df_airports.columns)\n",
        "print(df_flights.columns)"
      ],
      "metadata": {
        "colab": {
          "base_uri": "https://localhost:8080/"
        },
        "id": "_48C5BHjz-af",
        "outputId": "29e3233f-eae9-4544-eae7-0b9158b8c572"
      },
      "execution_count": 22,
      "outputs": [
        {
          "output_type": "stream",
          "name": "stdout",
          "text": [
            "Index(['IATA_CODE', 'AIRLINE'], dtype='object')\n",
            "Index(['IATA_CODE', 'AIRPORT', 'CITY', 'STATE', 'COUNTRY', 'LATITUDE',\n",
            "       'LONGITUDE'],\n",
            "      dtype='object')\n",
            "Index(['YEAR', 'MONTH', 'DAY', 'DAY_OF_WEEK', 'AIRLINE', 'FLIGHT_NUMBER',\n",
            "       'TAIL_NUMBER', 'ORIGIN_AIRPORT', 'DESTINATION_AIRPORT',\n",
            "       'SCHEDULED_DEPARTURE', 'DEPARTURE_TIME', 'DEPARTURE_DELAY', 'TAXI_OUT',\n",
            "       'WHEELS_OFF', 'SCHEDULED_TIME', 'ELAPSED_TIME', 'AIR_TIME', 'DISTANCE',\n",
            "       'WHEELS_ON', 'TAXI_IN', 'SCHEDULED_ARRIVAL', 'ARRIVAL_TIME',\n",
            "       'ARRIVAL_DELAY', 'DIVERTED', 'CANCELLED', 'CANCELLATION_REASON',\n",
            "       'AIR_SYSTEM_DELAY', 'SECURITY_DELAY', 'AIRLINE_DELAY',\n",
            "       'LATE_AIRCRAFT_DELAY', 'WEATHER_DELAY'],\n",
            "      dtype='object')\n"
          ]
        }
      ]
    },
    {
      "cell_type": "markdown",
      "source": [
        "Combine (*join*) las tablas `airlines`, `airports`, y `flights` en una sola tabla."
      ],
      "metadata": {
        "id": "PjDZHuvKCKNp"
      }
    },
    {
      "cell_type": "code",
      "source": [
        "df_comb = pd.merge(df_flights, df_airlines, how=\"left\", left_on=\"AIRLINE\", right_on=\"IATA_CODE\")\n",
        "df_comb = pd.merge(df_comb, df_airports, how=\"left\", left_on=\"ORIGIN_AIRPORT\", right_on=\"IATA_CODE\", suffixes=(\"_origin\", \"_destination\"))\n",
        "df_comb = pd.merge(df_comb, df_airports, how=\"left\", left_on=\"DESTINATION_AIRPORT\", right_on=\"IATA_CODE\", suffixes=(\"_origin\", \"_destination\"))"
      ],
      "metadata": {
        "id": "C5zwlCBqqSP3"
      },
      "execution_count": 23,
      "outputs": []
    },
    {
      "cell_type": "markdown",
      "source": [
        "¿Cuantos vuelos fueron al aeropuerto JFK?"
      ],
      "metadata": {
        "id": "qnx03j1hFm54"
      }
    },
    {
      "cell_type": "code",
      "source": [
        "vuelos_a_jfk = df_comb[df_comb[\"DESTINATION_AIRPORT\"] == \"JFK\"]\n",
        "print(len(vuelos_a_jfk))"
      ],
      "metadata": {
        "id": "lmluYuizFnKD",
        "colab": {
          "base_uri": "https://localhost:8080/"
        },
        "outputId": "beacf958-3124-4c30-b0d4-675c89725a06"
      },
      "execution_count": 24,
      "outputs": [
        {
          "output_type": "stream",
          "name": "stdout",
          "text": [
            "93809\n"
          ]
        }
      ]
    },
    {
      "cell_type": "markdown",
      "source": [
        "¿Cuantos vuelos hizo la aerolinea AA?"
      ],
      "metadata": {
        "id": "dhyTy9BhFnXx"
      }
    },
    {
      "cell_type": "code",
      "source": [
        "vuelos_de_AA = df_comb[df_comb[\"AIRLINE_x\"] == \"AA\"]\n",
        "print(len(vuelos_de_AA))"
      ],
      "metadata": {
        "colab": {
          "base_uri": "https://localhost:8080/"
        },
        "id": "S_x99VXj6IoL",
        "outputId": "d71dd28a-e707-4880-8a19-89365434ed31"
      },
      "execution_count": 25,
      "outputs": [
        {
          "output_type": "stream",
          "name": "stdout",
          "text": [
            "725984\n"
          ]
        }
      ]
    },
    {
      "cell_type": "markdown",
      "source": [
        "¿Que aerolineas (las primeras 5) tuvo la menor cantidad de vuelos con atrasos? Imprimirlas."
      ],
      "metadata": {
        "id": "kMP-JH_VEsMb"
      }
    },
    {
      "cell_type": "code",
      "source": [
        "vuelos_con_atrasos = df_comb[df_comb[\"ARRIVAL_DELAY\"] > 0]\n",
        "retrasos_por_aerolinea = vuelos_con_atrasos[\"AIRLINE_x\"].value_counts()\n",
        "menores_cant_retrasos = retrasos_por_aerolinea.nsmallest(5)\n",
        "print(menores_cant_retrasos)"
      ],
      "metadata": {
        "id": "4-h0JTPuEsZk",
        "colab": {
          "base_uri": "https://localhost:8080/"
        },
        "outputId": "b4f66e62-b591-4c7e-f1d2-d48b6b8f68ee"
      },
      "execution_count": 26,
      "outputs": [
        {
          "output_type": "stream",
          "name": "stdout",
          "text": [
            "AIRLINE_x\n",
            "VX    24180\n",
            "HA    30179\n",
            "F9    41232\n",
            "NK    56887\n",
            "AS    56953\n",
            "Name: count, dtype: int64\n"
          ]
        }
      ]
    },
    {
      "cell_type": "markdown",
      "source": [
        "¿Que aerolineas (las primeras 5) tuvo la mayor cantidad de vuelos con atrasos? Imprimirlas."
      ],
      "metadata": {
        "id": "AD51bj4AEs3L"
      }
    },
    {
      "cell_type": "code",
      "source": [
        "mayores_cant_retrasos = retrasos_por_aerolinea.head(5)\n",
        "print(mayores_cant_retrasos)"
      ],
      "metadata": {
        "id": "MiB6jHQ2Erqx",
        "colab": {
          "base_uri": "https://localhost:8080/"
        },
        "outputId": "44e9be8a-a65b-477c-a83b-7dde17bbe4ee"
      },
      "execution_count": 27,
      "outputs": [
        {
          "output_type": "stream",
          "name": "stdout",
          "text": [
            "AIRLINE_x\n",
            "WN    470767\n",
            "AA    252191\n",
            "DL    250840\n",
            "OO    222435\n",
            "EV    213217\n",
            "Name: count, dtype: int64\n"
          ]
        }
      ]
    },
    {
      "cell_type": "markdown",
      "source": [
        "Haga un resumen de las razones por la cual los vuelos se atrasan."
      ],
      "metadata": {
        "id": "DWQedGQvFYGP"
      }
    },
    {
      "cell_type": "code",
      "source": [
        "razones_atrasos = vuelos_con_atrasos[[\"AIR_SYSTEM_DELAY\", \"SECURITY_DELAY\", \"AIRLINE_DELAY\", \"LATE_AIRCRAFT_DELAY\", \"WEATHER_DELAY\"]].sum()\n",
        "print(razones_atrasos)"
      ],
      "metadata": {
        "id": "AtPN0dv5FX3d",
        "colab": {
          "base_uri": "https://localhost:8080/"
        },
        "outputId": "48885065-2c82-4b8c-ae34-9b098ce6feef"
      },
      "execution_count": 28,
      "outputs": [
        {
          "output_type": "stream",
          "name": "stdout",
          "text": [
            "AIR_SYSTEM_DELAY       14335762.0\n",
            "SECURITY_DELAY            80985.0\n",
            "AIRLINE_DELAY          20172956.0\n",
            "LATE_AIRCRAFT_DELAY    24961931.0\n",
            "WEATHER_DELAY           3100233.0\n",
            "dtype: float64\n"
          ]
        }
      ]
    },
    {
      "cell_type": "markdown",
      "source": [
        "Compruebe si hay columnas con celdas vacias."
      ],
      "metadata": {
        "id": "rMpR4FWdCKF2"
      }
    },
    {
      "cell_type": "code",
      "source": [
        "columnas_vacias = df_comb.isnull().sum()\n",
        "print(columnas_vacias)"
      ],
      "metadata": {
        "id": "S_SzBL9ZCKCV",
        "colab": {
          "base_uri": "https://localhost:8080/"
        },
        "outputId": "63b292cc-83c1-40d7-af89-453076d878a3"
      },
      "execution_count": 29,
      "outputs": [
        {
          "output_type": "stream",
          "name": "stdout",
          "text": [
            "YEAR                           0\n",
            "MONTH                          0\n",
            "DAY                            0\n",
            "DAY_OF_WEEK                    0\n",
            "AIRLINE_x                      0\n",
            "FLIGHT_NUMBER                  0\n",
            "TAIL_NUMBER                14721\n",
            "ORIGIN_AIRPORT                 0\n",
            "DESTINATION_AIRPORT            0\n",
            "SCHEDULED_DEPARTURE            0\n",
            "DEPARTURE_TIME             86153\n",
            "DEPARTURE_DELAY            86153\n",
            "TAXI_OUT                   89047\n",
            "WHEELS_OFF                 89047\n",
            "SCHEDULED_TIME                 6\n",
            "ELAPSED_TIME              105071\n",
            "AIR_TIME                  105071\n",
            "DISTANCE                       0\n",
            "WHEELS_ON                  92513\n",
            "TAXI_IN                    92513\n",
            "SCHEDULED_ARRIVAL              0\n",
            "ARRIVAL_TIME               92513\n",
            "ARRIVAL_DELAY             105071\n",
            "DIVERTED                       0\n",
            "CANCELLED                      0\n",
            "CANCELLATION_REASON      5729195\n",
            "AIR_SYSTEM_DELAY         4755640\n",
            "SECURITY_DELAY           4755640\n",
            "AIRLINE_DELAY            4755640\n",
            "LATE_AIRCRAFT_DELAY      4755640\n",
            "WEATHER_DELAY            4755640\n",
            "IATA_CODE_origin               0\n",
            "AIRLINE_y                      0\n",
            "IATA_CODE_destination     486165\n",
            "AIRPORT_origin            486165\n",
            "CITY_origin               486165\n",
            "STATE_origin              486165\n",
            "COUNTRY_origin            486165\n",
            "LATITUDE_origin           490770\n",
            "LONGITUDE_origin          490770\n",
            "IATA_CODE                 486165\n",
            "AIRPORT_destination       486165\n",
            "CITY_destination          486165\n",
            "STATE_destination         486165\n",
            "COUNTRY_destination       486165\n",
            "LATITUDE_destination      490775\n",
            "LONGITUDE_destination     490775\n",
            "dtype: int64\n"
          ]
        }
      ]
    },
    {
      "cell_type": "markdown",
      "source": [
        "Haga una imputación de datos COMPLETA del dataframe. Pueden escojer cualquier estrategia y no necesariamente todas las columnas deben seguir la misma estrategia."
      ],
      "metadata": {
        "id": "1IH7wd3PCJfQ"
      }
    },
    {
      "cell_type": "code",
      "source": [
        "df_comb.info()"
      ],
      "metadata": {
        "id": "kFoB3x9M9heX",
        "colab": {
          "base_uri": "https://localhost:8080/"
        },
        "outputId": "7863eb76-2d4f-48b9-8a6a-3db101767469"
      },
      "execution_count": 30,
      "outputs": [
        {
          "output_type": "stream",
          "name": "stdout",
          "text": [
            "<class 'pandas.core.frame.DataFrame'>\n",
            "RangeIndex: 5819079 entries, 0 to 5819078\n",
            "Data columns (total 47 columns):\n",
            " #   Column                 Dtype  \n",
            "---  ------                 -----  \n",
            " 0   YEAR                   int64  \n",
            " 1   MONTH                  int64  \n",
            " 2   DAY                    int64  \n",
            " 3   DAY_OF_WEEK            int64  \n",
            " 4   AIRLINE_x              object \n",
            " 5   FLIGHT_NUMBER          int64  \n",
            " 6   TAIL_NUMBER            object \n",
            " 7   ORIGIN_AIRPORT         object \n",
            " 8   DESTINATION_AIRPORT    object \n",
            " 9   SCHEDULED_DEPARTURE    int64  \n",
            " 10  DEPARTURE_TIME         float64\n",
            " 11  DEPARTURE_DELAY        float64\n",
            " 12  TAXI_OUT               float64\n",
            " 13  WHEELS_OFF             float64\n",
            " 14  SCHEDULED_TIME         float64\n",
            " 15  ELAPSED_TIME           float64\n",
            " 16  AIR_TIME               float64\n",
            " 17  DISTANCE               int64  \n",
            " 18  WHEELS_ON              float64\n",
            " 19  TAXI_IN                float64\n",
            " 20  SCHEDULED_ARRIVAL      int64  \n",
            " 21  ARRIVAL_TIME           float64\n",
            " 22  ARRIVAL_DELAY          float64\n",
            " 23  DIVERTED               int64  \n",
            " 24  CANCELLED              int64  \n",
            " 25  CANCELLATION_REASON    object \n",
            " 26  AIR_SYSTEM_DELAY       float64\n",
            " 27  SECURITY_DELAY         float64\n",
            " 28  AIRLINE_DELAY          float64\n",
            " 29  LATE_AIRCRAFT_DELAY    float64\n",
            " 30  WEATHER_DELAY          float64\n",
            " 31  IATA_CODE_origin       object \n",
            " 32  AIRLINE_y              object \n",
            " 33  IATA_CODE_destination  object \n",
            " 34  AIRPORT_origin         object \n",
            " 35  CITY_origin            object \n",
            " 36  STATE_origin           object \n",
            " 37  COUNTRY_origin         object \n",
            " 38  LATITUDE_origin        float64\n",
            " 39  LONGITUDE_origin       float64\n",
            " 40  IATA_CODE              object \n",
            " 41  AIRPORT_destination    object \n",
            " 42  CITY_destination       object \n",
            " 43  STATE_destination      object \n",
            " 44  COUNTRY_destination    object \n",
            " 45  LATITUDE_destination   float64\n",
            " 46  LONGITUDE_destination  float64\n",
            "dtypes: float64(20), int64(10), object(17)\n",
            "memory usage: 2.0+ GB\n"
          ]
        }
      ]
    },
    {
      "cell_type": "code",
      "source": [
        "df_comb.ffill(inplace=True)"
      ],
      "metadata": {
        "id": "7U3ne9V8oVhz"
      },
      "execution_count": 31,
      "outputs": []
    },
    {
      "cell_type": "code",
      "source": [
        "columnas_vacias = df_comb.isnull().sum()\n",
        "print(columnas_vacias)"
      ],
      "metadata": {
        "colab": {
          "base_uri": "https://localhost:8080/"
        },
        "id": "Xlqdmy49o6JF",
        "outputId": "85175893-670a-430c-f189-220212b2f5b8"
      },
      "execution_count": 32,
      "outputs": [
        {
          "output_type": "stream",
          "name": "stdout",
          "text": [
            "YEAR                      0\n",
            "MONTH                     0\n",
            "DAY                       0\n",
            "DAY_OF_WEEK               0\n",
            "AIRLINE_x                 0\n",
            "FLIGHT_NUMBER             0\n",
            "TAIL_NUMBER               0\n",
            "ORIGIN_AIRPORT            0\n",
            "DESTINATION_AIRPORT       0\n",
            "SCHEDULED_DEPARTURE       0\n",
            "DEPARTURE_TIME            0\n",
            "DEPARTURE_DELAY           0\n",
            "TAXI_OUT                  0\n",
            "WHEELS_OFF                0\n",
            "SCHEDULED_TIME            0\n",
            "ELAPSED_TIME              0\n",
            "AIR_TIME                  0\n",
            "DISTANCE                  0\n",
            "WHEELS_ON                 0\n",
            "TAXI_IN                   0\n",
            "SCHEDULED_ARRIVAL         0\n",
            "ARRIVAL_TIME              0\n",
            "ARRIVAL_DELAY             0\n",
            "DIVERTED                  0\n",
            "CANCELLED                 0\n",
            "CANCELLATION_REASON      32\n",
            "AIR_SYSTEM_DELAY         27\n",
            "SECURITY_DELAY           27\n",
            "AIRLINE_DELAY            27\n",
            "LATE_AIRCRAFT_DELAY      27\n",
            "WEATHER_DELAY            27\n",
            "IATA_CODE_origin          0\n",
            "AIRLINE_y                 0\n",
            "IATA_CODE_destination     0\n",
            "AIRPORT_origin            0\n",
            "CITY_origin               0\n",
            "STATE_origin              0\n",
            "COUNTRY_origin            0\n",
            "LATITUDE_origin           0\n",
            "LONGITUDE_origin          0\n",
            "IATA_CODE                 0\n",
            "AIRPORT_destination       0\n",
            "CITY_destination          0\n",
            "STATE_destination         0\n",
            "COUNTRY_destination       0\n",
            "LATITUDE_destination      0\n",
            "LONGITUDE_destination     0\n",
            "dtype: int64\n"
          ]
        }
      ]
    },
    {
      "cell_type": "code",
      "source": [
        "df_comb[\"CANCELLATION_REASON\"] = df_comb[\"CANCELLATION_REASON\"].fillna(\"desconocido\")"
      ],
      "metadata": {
        "id": "QB8kdVm6o_-F"
      },
      "execution_count": 33,
      "outputs": []
    },
    {
      "cell_type": "code",
      "source": [
        "col_restantes = [\"AIR_SYSTEM_DELAY\", \"SECURITY_DELAY\", \"AIRLINE_DELAY\", \"LATE_AIRCRAFT_DELAY\", \"WEATHER_DELAY\"]\n",
        "df_comb[col_restantes] = df_comb[col_restantes].fillna(0)"
      ],
      "metadata": {
        "id": "N37ZI9vcpZSt"
      },
      "execution_count": 34,
      "outputs": []
    },
    {
      "cell_type": "code",
      "source": [
        "print(df_comb.isnull().sum())"
      ],
      "metadata": {
        "colab": {
          "base_uri": "https://localhost:8080/"
        },
        "id": "C0CfAVsjpjiO",
        "outputId": "ebe9899c-eb2d-4ca3-b02b-fde6c9d8d10d"
      },
      "execution_count": 35,
      "outputs": [
        {
          "output_type": "stream",
          "name": "stdout",
          "text": [
            "YEAR                     0\n",
            "MONTH                    0\n",
            "DAY                      0\n",
            "DAY_OF_WEEK              0\n",
            "AIRLINE_x                0\n",
            "FLIGHT_NUMBER            0\n",
            "TAIL_NUMBER              0\n",
            "ORIGIN_AIRPORT           0\n",
            "DESTINATION_AIRPORT      0\n",
            "SCHEDULED_DEPARTURE      0\n",
            "DEPARTURE_TIME           0\n",
            "DEPARTURE_DELAY          0\n",
            "TAXI_OUT                 0\n",
            "WHEELS_OFF               0\n",
            "SCHEDULED_TIME           0\n",
            "ELAPSED_TIME             0\n",
            "AIR_TIME                 0\n",
            "DISTANCE                 0\n",
            "WHEELS_ON                0\n",
            "TAXI_IN                  0\n",
            "SCHEDULED_ARRIVAL        0\n",
            "ARRIVAL_TIME             0\n",
            "ARRIVAL_DELAY            0\n",
            "DIVERTED                 0\n",
            "CANCELLED                0\n",
            "CANCELLATION_REASON      0\n",
            "AIR_SYSTEM_DELAY         0\n",
            "SECURITY_DELAY           0\n",
            "AIRLINE_DELAY            0\n",
            "LATE_AIRCRAFT_DELAY      0\n",
            "WEATHER_DELAY            0\n",
            "IATA_CODE_origin         0\n",
            "AIRLINE_y                0\n",
            "IATA_CODE_destination    0\n",
            "AIRPORT_origin           0\n",
            "CITY_origin              0\n",
            "STATE_origin             0\n",
            "COUNTRY_origin           0\n",
            "LATITUDE_origin          0\n",
            "LONGITUDE_origin         0\n",
            "IATA_CODE                0\n",
            "AIRPORT_destination      0\n",
            "CITY_destination         0\n",
            "STATE_destination        0\n",
            "COUNTRY_destination      0\n",
            "LATITUDE_destination     0\n",
            "LONGITUDE_destination    0\n",
            "dtype: int64\n"
          ]
        }
      ]
    }
  ]
}